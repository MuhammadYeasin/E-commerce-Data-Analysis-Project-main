{
 "cells": [
  {
   "cell_type": "markdown",
   "id": "skHfgkqlqndO",
   "metadata": {
    "id": "skHfgkqlqndO"
   },
   "source": [
    "### Analysis of an E-commerce Dataset\n",
    "\n",
    "We have been provided with a combined e-commerce dataset. In this dataset, each user has the ability to post a rating and review for the products they purchased. Additionally, other users can evaluate the initial rating and review by expressing their trust or distrust.\n",
    "\n",
    "This dataset includes a wealth of information for each user. Details such as their profile, ID, gender, city of birth, product ratings (on a scale of 1-5), reviews, and the prices of the products they purchased are all included. Moreover, for each product rating, we have information about the product name, ID, price, and category, the rating score, the timestamp of the rating and review, and the average helpfulness of the rating given by others (on a scale of 1-5).\n",
    "\n",
    "The dataset is from several data sources, and we have merged all the data into a single CSV file named 'A Combined E-commerce Dataset.csv'. The structure of this dataset is represented in the header shown below.\n",
    "\n",
    "| userId | gender | rating | review| item | category | helpfulness | timestamp | item_id | item_price | user_city|\n",
    "\n",
    "    | ---- | ---- | ---- | ---- | ---- | ---- | ---- | ---- | ---- |  ---- |  ---- |  \n",
    "    \n",
    "#### Description of Fields\n",
    "\n",
    "* __userId__ - the user's id\n",
    "* __gender__ - the user's gender\n",
    "* __rating__ - the user's rating towards the item\n",
    "* __review__ - the user's review towards the item\n",
    "* __item__ - the item's name\n",
    "* __category__ - the category of the item\n",
    "* __helpfulness__ - the average helpfulness of this rating\n",
    "* __timestamp__ - the timestamp when the rating is created\n",
    "* __item_id__ - the item's id\n",
    "* __item_price__ - the item's price\n",
    "* __user_city__ - the city of user's birth\n",
    "\n",
    "Note that, a user may rate multiple items and an item may receive ratings and reviews from multiple users. The \"helpfulness\" is an average value based on all the helpfulness values given by others.\n",
    "\n",
    "There are four questions to explore with the data as shown below.\n",
    "\n",
    "\n",
    "\n",
    "<img src=\"data-relation.png\" align=\"left\" width=\"400\"/>\n",
    "(You can find the data relation diagram on iLearn - Portfolio Part 1 resources - Fig1)\n"
   ]
  },
  {
   "cell_type": "markdown",
   "id": "-tb7B7VTqndQ",
   "metadata": {
    "id": "-tb7B7VTqndQ"
   },
   "source": [
    " #### Q1. Remove missing data\n",
    "\n",
    "Please remove the following records in the csv file:\n",
    "\n",
    " * gender/rating/helpfulness is missing\n",
    " * review is 'none'\n",
    "\n",
    "__Display the DataFrame, counting number of Null values in each column, and print the length of the data__ before and after removing the missing data.  "
   ]
  },
  {
   "cell_type": "code",
   "execution_count": 1,
   "id": "09acccab-ac4a-4999-8f2d-a66955bba6a3",
   "metadata": {},
   "outputs": [],
   "source": [
    "#student_name = \"MD Nadim Yeasin\"\n",
    "#student_id = \"48343110\""
   ]
  },
  {
   "cell_type": "code",
   "execution_count": 2,
   "id": "1ecn6H9VqndQ",
   "metadata": {
    "id": "1ecn6H9VqndQ"
   },
   "outputs": [
    {
     "name": "stdout",
     "output_type": "stream",
     "text": [
      "       userId  timestamp                                    review  \\\n",
      "0        4051      12807                 Great job for what it is!   \n",
      "1        4052     122899               Free Access Worth your Time   \n",
      "2          33      12700             AOL..I love you!!!!!!!!!!!!     \n",
      "3          33      21000              EBAY!!!  I LOVE YOU!!!! :-)*   \n",
      "4          33      22300           Blair Witch...Oh Come On.......   \n",
      "...       ...        ...                                       ...   \n",
      "19995   10805      50600                 The Upper Class Fast Food   \n",
      "19996   10806      82201             What more can you ask for????   \n",
      "19997   10806      82201          Excellent steak for a good price   \n",
      "19998   10807      31504                     Different story world   \n",
      "19999   10808      10200  Boldly Displaying Sigourneys Cleavage ..   \n",
      "\n",
      "                                                    item  rating  helpfulness  \\\n",
      "0                                                   eBay     5.0          2.0   \n",
      "1                                                NetZero     5.0          0.0   \n",
      "2                                   AOL (America Online)     5.0          4.0   \n",
      "3                                                   eBay     5.0          4.0   \n",
      "4                                    Blair Witch Project     1.0          4.0   \n",
      "...                                                  ...     ...          ...   \n",
      "19995                                            Wendy's     2.0          3.0   \n",
      "19996                                       Olive Garden     4.0          0.0   \n",
      "19997                                 Outback Steakhouse     4.0          3.0   \n",
      "19998  J. K. Rowling - Harry Potter and the Sorcerer'...     4.0          0.0   \n",
      "19999                                       Galaxy Quest     4.0          0.0   \n",
      "\n",
      "      gender                  category  item_id  item_price  user_city  \n",
      "0          F  Online Stores & Services       88      149.00         39  \n",
      "1          F  Online Stores & Services       46       53.00         39  \n",
      "2          F  Online Stores & Services        0      145.84         31  \n",
      "3          F  Online Stores & Services       88      149.00         31  \n",
      "4          F                    Movies       12       44.00         31  \n",
      "...      ...                       ...      ...         ...        ...  \n",
      "19995      F     Restaurants & Gourmet       84       69.00         18  \n",
      "19996      M     Restaurants & Gourmet       49       32.00         28  \n",
      "19997      M     Restaurants & Gourmet       50       25.00         28  \n",
      "19998      M                     Books       36       96.00         27  \n",
      "19999      M                    Movies       29       67.00         11  \n",
      "\n",
      "[20000 rows x 11 columns]\n",
      "Gender value null is 27\n",
      "Rating value null is 17\n",
      "Helpfulness value null is 22\n",
      "Review value null is 18\n",
      "Length of the dataset is 20000\n"
     ]
    }
   ],
   "source": [
    "# your code and solutions\n",
    "import pandas as pd\n",
    "import numpy as np\n",
    "\n",
    "import matplotlib.pyplot as plt\n",
    "%matplotlib inline\n",
    "\n",
    "dataset = pd.read_csv('The E-commerce Dataset.csv')\n",
    "print(dataset)\n",
    "print('Gender value null is ' + str(dataset['gender'].isnull().sum()))\n",
    "print('Rating value null is ' + str(dataset['rating'].isnull().sum()))\n",
    "\n",
    "print('Helpfulness value null is ' + str(dataset['helpfulness'].isnull().sum()))\n",
    "review= (dataset['review'] == 'none').sum()\n",
    "print('Review value null is ' + str(review))\n",
    "\n",
    "print('Length of the dataset is '+str(len(dataset)))\n",
    "#dataset.shape\n",
    "\n",
    "\n"
   ]
  },
  {
   "cell_type": "code",
   "execution_count": 3,
   "id": "eb45e7b9-7360-459c-9d40-0d8b19ab0186",
   "metadata": {},
   "outputs": [
    {
     "name": "stdout",
     "output_type": "stream",
     "text": [
      "Gender value null is 0\n",
      "Rating value null is 0\n",
      "Helpfulness value null is 0\n",
      "Review value null is 0\n",
      "Length of the newDataset is 19916\n"
     ]
    }
   ],
   "source": [
    "newDataset = dataset.drop(dataset.index[(dataset['gender'].isnull()) |\n",
    "                                        (dataset['rating'].isnull()) |\n",
    "                                        (dataset['helpfulness'].isnull()) |\n",
    "                                        (dataset['review'] == 'none')])\n",
    "print('Gender value null is ' + str(newDataset['gender'].isnull().sum()))\n",
    "print('Rating value null is ' + str(newDataset['rating'].isnull().sum()))\n",
    "\n",
    "print('Helpfulness value null is ' + str(newDataset['helpfulness'].isnull().sum()))\n",
    "print('Review value null is ' + str(newDataset['review'].isnull().sum()))\n",
    "\n",
    "print('Length of the newDataset is '+str(len(newDataset)))\n"
   ]
  },
  {
   "cell_type": "markdown",
   "id": "EJG9_LEmqndR",
   "metadata": {
    "id": "EJG9_LEmqndR"
   },
   "source": [
    "#### Q2. Descriptive statistics\n",
    "\n",
    "With the cleaned data in Q1, please provide the data summarization as below:\n",
    "\n",
    "* Q2.1 total number of unique users, unique reviews, unique items, and unique categories\n",
    "* Q2.2 descriptive statistics, e.g., the total number, mean, std, min and max regarding all rating records\n",
    "* Q2.3 descriptive statistics, e.g., mean, std, max, and min of the number of items rated by different genders\n",
    "* Q2.4 descriptive statistics, e.g., mean, std, max, min of the number of ratings that received by each items\n"
   ]
  },
  {
   "cell_type": "code",
   "execution_count": 4,
   "id": "-fiucmwsqndR",
   "metadata": {
    "id": "-fiucmwsqndR"
   },
   "outputs": [
    {
     "name": "stdout",
     "output_type": "stream",
     "text": [
      "Total number of unique users is 8562\n",
      "Total number of unique review is 19459\n",
      "Total number of unique items is 89\n",
      "Total number of unique categories is 9\n"
     ]
    }
   ],
   "source": [
    "# Q2.1 total number of unique users, unique reviews, unique items, and unique categories\n",
    "print('Total number of unique users is ' + str(len(newDataset.userId.unique())))\n",
    "\n",
    "print('Total number of unique review is ' + str(len(newDataset.review.unique())))\n",
    "\n",
    "print('Total number of unique items is ' + str(len(newDataset.item.unique())))\n",
    "\n",
    "print('Total number of unique categories is ' + str(len(newDataset.category.unique())))"
   ]
  },
  {
   "cell_type": "code",
   "execution_count": 5,
   "id": "62f7118a-43b7-47b6-bb13-4b2a9e23d078",
   "metadata": {},
   "outputs": [
    {
     "name": "stdout",
     "output_type": "stream",
     "text": [
      "Total number is 73725.0\n",
      "Mean is 3.7017975497087767\n",
      "STD is 1.4044507218710944\n",
      "Min number is 1.0\n",
      "Max number is 5.0\n"
     ]
    }
   ],
   "source": [
    "#Q2.2 descriptive statistics, e.g., the total number, mean, std, min and max regarding all rating records\n",
    "\n",
    "print('Total number is ' + str(newDataset.rating.sum()))\n",
    "print('Mean is ' + str(newDataset.rating.mean()))\n",
    "print('STD is ' + str(newDataset.rating.std()))\n",
    "print('Min number is ' + str(newDataset.rating.min()))\n",
    "print('Max number is ' + str(newDataset.rating.max()))"
   ]
  },
  {
   "cell_type": "code",
   "execution_count": 6,
   "id": "b107f47c-e9b2-4fa8-b287-903f64ae50d7",
   "metadata": {},
   "outputs": [
    {
     "name": "stdout",
     "output_type": "stream",
     "text": [
      "For males Mean is 3.6866541539069444\n",
      "For males STD is 1.413097727103784\n",
      "For males Min number is 1.0\n",
      "For males Max number is 5.0\n",
      "For females Mean is 3.71745124068212\n",
      "For females STD is 1.3953554048259325\n",
      "For females Min number is 1.0\n",
      "For females Max number is 5.0\n"
     ]
    }
   ],
   "source": [
    "#Q2.3 descriptive statistics, e.g., mean, std, max, and min of the number of items rated by different genders\n",
    "\n",
    "male = newDataset[newDataset.gender == 'M']\n",
    "#print(len(male))\n",
    "\n",
    "female = newDataset[newDataset.gender == 'F']\n",
    "#print(len(female))\n",
    "\n",
    "#For males\n",
    "print('For males Mean is ' + str(male.rating.mean()))\n",
    "print('For males STD is ' + str(male.rating.std()))\n",
    "\n",
    "print('For males Min number is ' + str(male.rating.min()))\n",
    "print('For males Max number is ' + str(male.rating.max()))\n",
    "\n",
    "#For females\n",
    "print('For females Mean is ' + str(female.rating.mean()))\n",
    "print('For females STD is ' + str(female.rating.std()))\n",
    "\n",
    "print('For females Min number is ' + str(female.rating.min()))\n",
    "print('For females Max number is ' + str(female.rating.max()))"
   ]
  },
  {
   "cell_type": "code",
   "execution_count": 7,
   "id": "a19161c0-f9fc-4702-b076-9e69e5ca6569",
   "metadata": {},
   "outputs": [
    {
     "name": "stdout",
     "output_type": "stream",
     "text": [
      "Mean of the number of ratings that received by each items: item\n",
      "AOL (America Online)     2.500532\n",
      "All Advantage            3.412481\n",
      "Alta Vista (by 1stUp)    3.541401\n",
      "Amazon.com               3.683333\n",
      "American Airlines        3.054054\n",
      "                           ...   \n",
      "Wendy's                  3.971429\n",
      "What Lies Beneath        3.450000\n",
      "X-Men                    4.118367\n",
      "X.com                    4.023121\n",
      "eBay                     4.333893\n",
      "Name: rating, Length: 89, dtype: float64\n",
      "STD of the number of ratings that received by each items: item\n",
      "AOL (America Online)     1.368528\n",
      "All Advantage            1.541706\n",
      "Alta Vista (by 1stUp)    1.263341\n",
      "Amazon.com               1.571095\n",
      "American Airlines        1.417015\n",
      "                           ...   \n",
      "Wendy's                  1.093322\n",
      "What Lies Beneath        1.201676\n",
      "X-Men                    0.853074\n",
      "X.com                    1.474409\n",
      "eBay                     0.949618\n",
      "Name: rating, Length: 89, dtype: float64\n",
      "Max of the number of ratings that received by each items: item\n",
      "AOL (America Online)     5.0\n",
      "All Advantage            5.0\n",
      "Alta Vista (by 1stUp)    5.0\n",
      "Amazon.com               5.0\n",
      "American Airlines        5.0\n",
      "                        ... \n",
      "Wendy's                  5.0\n",
      "What Lies Beneath        5.0\n",
      "X-Men                    5.0\n",
      "X.com                    5.0\n",
      "eBay                     5.0\n",
      "Name: rating, Length: 89, dtype: float64\n",
      "Min of the number of ratings that received by each items: item\n",
      "AOL (America Online)     1.0\n",
      "All Advantage            1.0\n",
      "Alta Vista (by 1stUp)    1.0\n",
      "Amazon.com               1.0\n",
      "American Airlines        1.0\n",
      "                        ... \n",
      "Wendy's                  1.0\n",
      "What Lies Beneath        1.0\n",
      "X-Men                    1.0\n",
      "X.com                    1.0\n",
      "eBay                     1.0\n",
      "Name: rating, Length: 89, dtype: float64\n"
     ]
    }
   ],
   "source": [
    "\n",
    "#Q2.4 descriptive statistics, e.g., mean, std, max, min of the number of ratings that received by each items\n",
    "#group by on items\n",
    "# describe function on  new datafram\n",
    "print('Mean of the number of ratings that received by each items: '+ str(newDataset.groupby('item')['rating'].mean()))\n",
    "\n",
    "\n",
    "print('STD of the number of ratings that received by each items: '+ str(newDataset.groupby('item')['rating'].std()))\n",
    "\n",
    "print('Max of the number of ratings that received by each items: '+ str(newDataset.groupby('item')['rating'].max()))\n",
    "print('Min of the number of ratings that received by each items: '+ str(newDataset.groupby('item')['rating'].min()))\n",
    "\n",
    "\n",
    "\n",
    "\n",
    "\n",
    "\n",
    "\n"
   ]
  },
  {
   "cell_type": "markdown",
   "id": "PISggxe5qndR",
   "metadata": {
    "id": "PISggxe5qndR"
   },
   "source": [
    "#### Q3. Plotting and Analysis\n",
    "\n",
    "Please try to explore the correlation between gender/helpfulness/category and ratings; for instance, do female/male users tend to provide higher ratings than male/female users? Hint: you may use the boxplot function to plot figures for comparison (___Challenge___)\n",
    "    \n",
    "You may need to select the most suitable graphic forms for ease of presentation. Most importantly, for each figure or subfigure, please summarise ___what each plot shows___ (i.e. observations and explanations). Finally, you may need to provide an overall summary of the data."
   ]
  },
  {
   "cell_type": "markdown",
   "id": "b04c491c-52f6-40c3-a8dd-b9491bc6f5b4",
   "metadata": {},
   "source": []
  },
  {
   "cell_type": "markdown",
   "id": "01919c49-8801-4d73-86d0-e29ae93994b7",
   "metadata": {},
   "source": [
    "### In the first box plot the two diagram between male and female is identical.Then median, \tquartile\t,range and spread is the same.\n",
    "\n",
    "### In the category and rating plot, only in media sections most of the rating is lower.On the other hand, games and books has multiple outliers. Therefore, all the other categories share a similar rating.\n",
    "\n",
    "### Lastly, in the helpfullness vs rating plot any noticable co relation can not be seen.\n",
    "\n",
    "\n",
    "\n",
    "\n"
   ]
  },
  {
   "cell_type": "code",
   "execution_count": 8,
   "id": "Zyuvw_WlqndR",
   "metadata": {
    "id": "Zyuvw_WlqndR"
   },
   "outputs": [
    {
     "data": {
      "image/png": "[encoded data removed]",
      "text/plain": [
       "<Figure size 1800x600 with 3 Axes>"
      ]
     },
     "metadata": {},
     "output_type": "display_data"
    }
   ],
   "source": [
    "\n",
    "import seaborn as sns\n",
    "\n",
    "fig, axes = plt.subplots(1, 3, figsize=(18, 6))\n",
    "\n",
    "# Plot 1: Gender vs Rating\n",
    "sns.boxplot(data=newDataset, x='gender', y='rating', ax=axes[0])\n",
    "axes[0].set_title('Gender vs Rating')\n",
    "axes[0].set_xlabel('Gender')\n",
    "axes[0].set_ylabel('Rating')\n",
    "\n",
    "# Plot 2: Category vs Rating\n",
    "sns.boxplot(data=newDataset, x='category', y='rating', ax=axes[1])\n",
    "axes[1].set_title('Category vs Rating')\n",
    "axes[1].set_xlabel('Category')\n",
    "axes[1].set_ylabel('Rating')\n",
    "axes[1].tick_params(axis='x', rotation=45)\n",
    "\n",
    "# Plot 3: Helpfulness vs Rating\n",
    "sns.boxplot(data=newDataset, x='helpfulness', y='rating', ax=axes[2])\n",
    "axes[2].set_title('Helpfulness vs Rating')\n",
    "axes[2].set_xlabel('Helpfulness')\n",
    "axes[2].set_ylabel('Rating')\n",
    "\n",
    "plt.tight_layout()\n",
    "plt.show()"
   ]
  },
  {
   "cell_type": "code",
   "execution_count": null,
   "id": "f0d2cf89-6504-4993-b359-127cf9170523",
   "metadata": {},
   "outputs": [],
   "source": []
  },
  {
   "cell_type": "markdown",
   "id": "TxD3SLxRqndR",
   "metadata": {
    "id": "TxD3SLxRqndR"
   },
   "source": [
    "#### Q4. Detect and remove outliers\n",
    "\n",
    "We may define outlier users, reviews and items with three rules (if a record meets one of the rules, it is regarded as an outlier):\n",
    "\n",
    "1. reviews of which the helpfulness is no more than 2\n",
    "2. users who rate less than 7 items\n",
    "3. items that receives less than 11 ratings\n",
    "\n",
    "Please remove the corresponding records in the csv file that involves outlier users, reviews and items. You need to follow the order of rules to perform data cleaning operations. After that, __print the length of the data__."
   ]
  },
  {
   "cell_type": "code",
   "execution_count": 9,
   "id": "JaQJmew4qndR",
   "metadata": {
    "id": "JaQJmew4qndR"
   },
   "outputs": [
    {
     "name": "stdout",
     "output_type": "stream",
     "text": [
      "13643\n",
      "2741\n",
      "After dropping outliers length is :2685\n"
     ]
    }
   ],
   "source": [
    "# your code and solutions\n",
    "# 1.reviews of which the helpfulness is no more than 2\n",
    "newDataset_clean_1 = newDataset.drop( newDataset.index[(newDataset.helpfulness <= 2)])\n",
    "print(len(newDataset_clean_1))\n",
    "#len(newDataset)\n",
    "\n",
    "# 2.users who rate less than 7 items\n",
    "\n",
    "newDataset_clean_2 = newDataset_clean_1.drop(newDataset_clean_1.index[newDataset_clean_1['userId'].groupby(newDataset_clean_1['userId']).transform('count') < 7])\n",
    "\n",
    "print(len(newDataset_clean_2))\n",
    "\n",
    "# 3.items that receives less than 11 ratings\n",
    "ratings_count = newDataset_clean_2.groupby('item').size()\n",
    "\n",
    "items_less_than_11_ratings = ratings_count[ratings_count < 11]\n",
    "\n",
    "newDataset_clean_3 = newDataset_clean_2[~newDataset_clean_2['item'].isin(items_less_than_11_ratings.index)]\n",
    "\n",
    "print(\"After dropping outliers length is :\" + str(len(newDataset_clean_3)))\n",
    "                        "
   ]
  },
  {
   "cell_type": "code",
   "execution_count": null,
   "id": "a535631c-c111-47bf-bd33-be1b75dc9cc1",
   "metadata": {},
   "outputs": [],
   "source": []
  }
 ],
 "metadata": {
  "colab": {
   "provenance": []
  },
  "kernelspec": {
   "display_name": "Python 3 (ipykernel)",
   "language": "python",
   "name": "python3"
  },
  "language_info": {
   "codemirror_mode": {
    "name": "ipython",
    "version": 3
   },
   "file_extension": ".py",
   "mimetype": "text/x-python",
   "name": "python",
   "nbconvert_exporter": "python",
   "pygments_lexer": "ipython3",
   "version": "3.11.7"
  }
 },
 "nbformat": 4,
 "nbformat_minor": 5
}
